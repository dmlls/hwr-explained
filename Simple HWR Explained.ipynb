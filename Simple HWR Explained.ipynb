{
 "cells": [
  {
   "cell_type": "markdown",
   "metadata": {},
   "source": [
    "<a id='introduction'></a>\n",
    "# 0. Introduction\n",
    "\n",
    "This notebook aims to show how to create a simple Handwriting Recognition (HWR) application, able to recognize both letters and numbers. For that, we are going to use two libraries fundamentally:\n",
    "- `scikit-image`: for image processing.\n",
    "- `scikit-learn`: to train our model."
   ]
  },
  {
   "cell_type": "markdown",
   "metadata": {},
   "source": [
    "The steps we will follow are:\n",
    "- Looking for an appropriate dataset.\n",
    "- Pre-processing the image with the handwritten text.\n",
    "- Train our model with the chosen dataset.\n",
    "- Test it out with out own samples."
   ]
  },
  {
   "cell_type": "markdown",
   "metadata": {},
   "source": [
    "<a id='section_1'></a>\n",
    "# 1. Dataset EMNIST\n",
    "\n",
    "Una de nuestras primeras tareas fue encontrar un *dataset* adecuado para nuestro objetivo. En Internet existen multitud de ejemplos para el reconocimiento de dígitos escritos a mano, pero no encontramos ninguno que también pudiera reconocer caracteres.\n",
    "\n",
    "Sin embargo, no fue muy difícil encontrar un conjunto de datos que se adaptara a nuestras necesidades, gracias a la inmensa labor llevada a cabo en el marco del proyecto [EMNIST](https://www.nist.gov/itl/iad/image-group/emnist-dataset). Existen diferentes variaciones del *dataset* de EMNIST, algunas de las cuales únicamente contienen dígitos, otras letras, etc. Nosotros escogimos la versión \"Balanced\" en la que se incluyen tanto letras como números, a fin de que nuestra aplicación fuera lo más versátil posible. Este *dataset* contiene 112.800 muestras de entrenamiento y 18.800 de test.\n",
    "\n",
    "El mayor problema una vez nos hicimos con el *dataset* fue entender cómo importarlo a nuestro *notebook*, ya que el formato original de las imágenes no es un formato estándar. Tras cierta búsqueda, encontramos en Internet una [versión](https://www.kaggle.com/crawford/emnist) del *dataset* en formato `.csv`, el cual es muy fácil de importar a través de la librería `pandas`."
   ]
  },
  {
   "cell_type": "markdown",
   "metadata": {},
   "source": [
    "<a id='emnist_dataset'></a>\n",
    "# 1. EMNIST Dataset\n",
    "\n",
    "For this example, we will use the EMNIST Dataset [[1]](#ref_1) which is \"a set of handwritten character digits derived from the NIST Special Database 19  and converted to a 28x28 pixel image format and dataset structure that directly matches the MNIST dataset\".  You can find more information about it [here](https://www.nist.gov/itl/products-and-services/emnist-dataset).\n",
    "\n",
    "However, if you wish to use a different dataset, the process should be very similar to what we will follow here.\n",
    "\n",
    "The EMNIST Dataset offers six different splits. In our case, we will use the \"EMNIST Balanced\" split, which contains 131,600 characters (letters and numbers) and 47 balanced classes."
   ]
  },
  {
   "cell_type": "code",
   "execution_count": 3,
   "metadata": {},
   "outputs": [],
   "source": [
    "#WIP"
   ]
  },
  {
   "cell_type": "markdown",
   "metadata": {},
   "source": [
    "<a id='bibliography'></a>\n",
    "# #. Bibliography\n",
    "\n",
    "<a id='ref_1'>[1]</a> Cohen, G., Afshar, S., Tapson, J., & van Schaik, A. (2017). EMNIST: an extension of MNIST to handwritten letters. Retrieved from http://arxiv.org/abs/1702.05373."
   ]
  }
 ],
 "metadata": {
  "kernelspec": {
   "display_name": "Python 3",
   "language": "python",
   "name": "python3"
  },
  "language_info": {
   "codemirror_mode": {
    "name": "ipython",
    "version": 3
   },
   "file_extension": ".py",
   "mimetype": "text/x-python",
   "name": "python",
   "nbconvert_exporter": "python",
   "pygments_lexer": "ipython3",
   "version": "3.8.6"
  }
 },
 "nbformat": 4,
 "nbformat_minor": 4
}
