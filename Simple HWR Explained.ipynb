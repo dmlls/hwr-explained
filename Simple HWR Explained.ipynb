{
 "cells": [
  {
   "cell_type": "markdown",
   "metadata": {},
   "source": [
    "<a id='introduction'></a>\n",
    "# 0. Introduction\n",
    "\n",
    "This notebook aims to show how to create a simple Handwriting Recognition (HWR) application, able to recognize both letters and numbers. For that, we are going to use two libraries fundamentally:\n",
    "- `scikit-image`: for image processing.\n",
    "- `scikit-learn`: to train our model."
   ]
  },
  {
   "cell_type": "markdown",
   "metadata": {},
   "source": [
    "The steps we will follow are:\n",
    "- Looking for an appropriate dataset.\n",
    "- Pre-processing the image with the handwritten text.\n",
    "- Train our model with the chosen dataset.\n",
    "- Test it out with out own samples."
   ]
  },
  {
   "cell_type": "markdown",
   "metadata": {},
   "source": [
    "<a id='emnist_dataset'></a>\n",
    "# 1. EMNIST Dataset\n",
    "\n",
    "For this example, we will use the EMNIST Dataset [[1]](#ref_1) which is \"a set of handwritten character digits derived from the NIST Special Database 19  and converted to a 28x28 pixel image format and dataset structure that directly matches the MNIST dataset\".  You can find more information about it [here](https://www.nist.gov/itl/products-and-services/emnist-dataset).\n",
    "\n",
    "However, if you wish to use a different dataset, the process should be very similar to what we will follow here.\n",
    "\n",
    "The EMNIST Dataset offers six different splits. In our case, we will use the \"EMNIST Balanced\" split, which contains 131,600 characters (letters and numbers) and 47 balanced classes. We can get it from [Kaggle](https://www.kaggle.com/crawford/emnist).\n",
    "\n",
    "Once downloaded, let's load it with `pandas`."
   ]
  },
  {
   "cell_type": "code",
   "execution_count": 5,
   "metadata": {},
   "outputs": [],
   "source": [
    "import pandas as pd\n",
    "from pathlib import Path\n",
    "\n",
    "# read training and test datasets\n",
    "train_data = pd.read_csv(Path(\"datasets/emnist-balanced-train.csv\")).values\n",
    "test_data = pd.read_csv(Path(\"datasets/emnist-balanced-test.csv\")).values"
   ]
  },
  {
   "cell_type": "markdown",
   "metadata": {},
   "source": [
    "The format of data is:\n",
    "- The first column contains the labels (classes), which are a number from 0 to 46 (since there are 47 classes).\n",
    "- The second column contains the image data. The images are in black and white. Each value corresponds to a pixel and can range from 0 (completely black) to 255 (completely white). The data is stored in one dimension.\n",
    "\n",
    "---\n",
    "\n",
    "| Class | Image data |\n",
    "| --- | --- |\n",
    "| 4 | [ 0 0 254 214 ... 214 154 45 0 0 ] |\n",
    "| 21 | [ 188 0 0 179 ... 245 70 244 0 0 ] |\n",
    "| 8 | [ 0 45 177 89 ...  80 154 90 0 45 ] |\n",
    "| 11 | [ 0 252 196 200 ... 61 251 0 0 0 ] |\n",
    "| **...** | **...** |\n",
    "\n",
    "---\n",
    "\n",
    "Let's separate the input from the target values:"
   ]
  },
  {
   "cell_type": "code",
   "execution_count": 6,
   "metadata": {},
   "outputs": [],
   "source": [
    "# training set\n",
    "x_train = train_data[...,1:] # all columns except the first\n",
    "y_train = train_data[...,0] # first column\n",
    "\n",
    "# test set\n",
    "x_test = test_data[...,1:]\n",
    "y_test = test_data[...,0]"
   ]
  },
  {
   "cell_type": "markdown",
   "metadata": {},
   "source": [
    "We can now plot one of the images to check that everything is working fine. We'll use `matplotlib` for that."
   ]
  },
  {
   "cell_type": "code",
   "execution_count": 8,
   "metadata": {},
   "outputs": [],
   "source": [
    "%matplotlib inline\n",
    "import matplotlib.pyplot as plt"
   ]
  },
  {
   "cell_type": "markdown",
   "metadata": {},
   "source": [
    "The image data, as we have mentioned previously, is stored in only one dimension. In addition, the images are mirrored horizontally and rotated 90º. Because of this, we cannot plot them directly. First, we need to take the following steps:\n",
    "- Change the shape of the image so that it has two dimensions. To do this we will use numpy's `shape()` function. The images size is 28 x 28 pixels, so we will pass these values to that function.\n",
    "- Mirror the image horizontally. Numpy provides the function `fliplr()`for that.\n",
    "- Rotate it 90º, with the function `rot90()`, also from numpy."
   ]
  },
  {
   "cell_type": "code",
   "execution_count": 11,
   "metadata": {},
   "outputs": [],
   "source": [
    "import numpy as np\n",
    "\n",
    "def imshow_EMNIST(img):\n",
    "    '''Plots EMNIST dataset images.\n",
    "\n",
    "    Args:\n",
    "        img:\n",
    "            EMNIST image.\n",
    "    '''\n",
    "    \n",
    "    img.shape = (28, 28) # make the image two-dimensional (28x28 pixels)\n",
    "    img = np.fliplr(img) # flip it horizontally\n",
    "    img = np.rot90(img) # rotate it 90º\n",
    "    plt.imshow(255-img, cmap='gray') # invert the image, so black pixels are \n",
    "                                     # white and viceversa, also plot it in\n",
    "                                     # grayscale (cmap='gray')"
   ]
  },
  {
   "cell_type": "code",
   "execution_count": 14,
   "metadata": {},
   "outputs": [
    {
     "data": {
      "image/png": "[encoded data removed]",
      "text/plain": [
       "<Figure size 432x288 with 1 Axes>"
      ]
     },
     "metadata": {
      "needs_background": "light"
     },
     "output_type": "display_data"
    }
   ],
   "source": [
    "img = x_test[1100] # random image\n",
    "imshow_EMNIST(img)"
   ]
  },
  {
   "cell_type": "markdown",
   "metadata": {},
   "source": [
    "As we said before, the labels will take values between 0 and 46. The correspondence between the labels and the characters is as follows:\n",
    "\n",
    "| Label | Character |\n",
    "| --- | --- |\n",
    "| 0 | '0' |\n",
    "| **...** | **...** |\n",
    "| 9 | '9' |\n",
    "| 10 | 'A' |\n",
    "| **...** | **...** |\n",
    "| 35 | 'Z' |\n",
    "| 36 | 'a' |\n",
    "| **...** | **...** |\n",
    "| 46 | 't' |\n",
    "\n",
    "---\n",
    "\n",
    "We might think that the conversion of the label into ASCII code would be as simple as carrying out an addition. For example, the label for 'A' is 10, and its ASCII code is 65. So, adding 55 to the label would be enough to get the character.\n",
    "\n",
    "However, that's quite not right, since there are characters that share the same label, as we can see in the following image extracted from the [EMNIST paper](https://arxiv.org/pdf/1702.05373v1.pdf):\n",
    "\n",
    "<img src=\"./images_notebook/EMNIST_dataset.jpg\" alt=\"Balanced EMNSIT Dataset\" width=\"800\" align=\"left\" />"
   ]
  },
  {
   "cell_type": "markdown",
   "metadata": {},
   "source": [
    "This is due to the similarity of certain lowercase and uppercase letters. For example, the characters 'o' and 'O', 'x' and 'X', 'w' and 'W', etc. Telling whether they are lower or uppercase in an isolated context is very complicated, if not impossible.\n",
    "\n",
    "To establish the correspondence label-character, due to the small irregularities mentioned, the simplest thing to do might be defining a dictionary."
   ]
  },
  {
   "cell_type": "code",
   "execution_count": 15,
   "metadata": {},
   "outputs": [],
   "source": [
    "# label-character correspondence\n",
    "data2ascii = {0: '0', 1: '1', 2: '2', 3: '3', 4: '4', 5: '5', 6: '6', 7: '7', 8: '8', 9: '9',\n",
    "              10: 'A', 11: 'B', 12: 'C', 13: 'D', 14: 'E', 15: 'F', 16: 'G', 17: 'H', 18: 'I',\n",
    "              19: 'J', 20: 'K', 21: 'L', 22: 'M', 23: 'N', 24: 'O', 25: 'P', 26: 'Q', 27: 'R',\n",
    "              28: 'S', 29: 'T', 30: 'U', 31: 'V', 32: 'W', 33: 'X', 34: 'Y', 35: 'Z', 36: 'a',\n",
    "              37: 'b', 38: 'd', 39: 'e', 40: 'f', 41: 'g', 42: 'h', 43: 'n', 44: 'q', 45: 'r',\n",
    "              46: 't'}"
   ]
  },
  {
   "cell_type": "markdown",
   "metadata": {},
   "source": [
    "Using the previous example..."
   ]
  },
  {
   "cell_type": "code",
   "execution_count": 18,
   "metadata": {},
   "outputs": [
    {
     "name": "stdout",
     "output_type": "stream",
     "text": [
      "Character: A\n"
     ]
    },
    {
     "data": {
      "image/png": "[encoded data removed]",
      "text/plain": [
       "<Figure size 432x288 with 1 Axes>"
      ]
     },
     "metadata": {
      "needs_background": "light"
     },
     "output_type": "display_data"
    }
   ],
   "source": [
    "imshow_EMNIST(img)\n",
    "print(\"Character:\", data2ascii[y_test[1100]]) # y_test stores the labels"
   ]
  },
  {
   "cell_type": "markdown",
   "metadata": {},
   "source": [
    "It would also be interesting to implement a function that would allow us to find all the occurrences of a certain character in the dataset."
   ]
  },
  {
   "cell_type": "code",
   "execution_count": 22,
   "metadata": {},
   "outputs": [],
   "source": [
    "def find_character(character, label_set):\n",
    "    '''Finds a specific character in a set.\n",
    "\n",
    "    Args:\n",
    "        character:\n",
    "            Character to look for.\n",
    "        label_set:\n",
    "            Set containing EMNIST labels.\n",
    "    \n",
    "    Returns:\n",
    "        Indexes where the character has been found.\n",
    "    '''\n",
    "    \n",
    "    pos = []\n",
    "    for i in range(len(label_set)):\n",
    "        if data2ascii[label_set[i]] == character:\n",
    "            pos.append(i)\n",
    "    return pos"
   ]
  },
  {
   "cell_type": "markdown",
   "metadata": {},
   "source": [
    "For example, let's look for all the occurrences of 'C':"
   ]
  },
  {
   "cell_type": "code",
   "execution_count": 26,
   "metadata": {},
   "outputs": [
    {
     "name": "stdout",
     "output_type": "stream",
     "text": [
      "Number of 'C' characters: 400\n",
      "[8, 29, 34, 37, 83, 95, 141, 147, 150, 227, 236, 337, 493, 584, 629, 633, 762, 768, 807, 809]\n"
     ]
    },
    {
     "data": {
      "image/png": "[encoded data removed]",
      "text/plain": [
       "<Figure size 432x288 with 1 Axes>"
      ]
     },
     "metadata": {
      "needs_background": "light"
     },
     "output_type": "display_data"
    }
   ],
   "source": [
    "indexes = find_character('C', y_test)\n",
    "\n",
    "print(\"Number of 'C' characters:\", len(indexes))\n",
    "print(indexes[:20])\n",
    "\n",
    "imshow_EMNIST(x_test[indexes[2]]) # third 'C' character in the dataset"
   ]
  },
  {
   "cell_type": "markdown",
   "metadata": {},
   "source": [
    "---"
   ]
  },
  {
   "cell_type": "markdown",
   "metadata": {},
   "source": [
    "[WIP}"
   ]
  },
  {
   "cell_type": "markdown",
   "metadata": {},
   "source": [
    "<a id='bibliography'></a>\n",
    "# #. Bibliography\n",
    "\n",
    "<a id='ref_1'>[1]</a> Cohen, G., Afshar, S., Tapson, J., & van Schaik, A. (2017). EMNIST: an extension of MNIST to handwritten letters. Retrieved from http://arxiv.org/abs/1702.05373."
   ]
  }
 ],
 "metadata": {
  "kernelspec": {
   "display_name": "Python 3",
   "language": "python",
   "name": "python3"
  },
  "language_info": {
   "codemirror_mode": {
    "name": "ipython",
    "version": 3
   },
   "file_extension": ".py",
   "mimetype": "text/x-python",
   "name": "python",
   "nbconvert_exporter": "python",
   "pygments_lexer": "ipython3",
   "version": "3.8.6"
  }
 },
 "nbformat": 4,
 "nbformat_minor": 4
}
